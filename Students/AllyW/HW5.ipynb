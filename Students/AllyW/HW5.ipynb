{
 "cells": [
  {
   "cell_type": "code",
   "execution_count": 10,
   "metadata": {},
   "outputs": [
    {
     "name": "stdout",
     "output_type": "stream",
     "text": [
      "   Redshift Right Ascension Declination      Best ID\n",
      "0         z              ra         dec    bestObjID\n",
      "1   1.71257         178.001   58.476478  1.23766E+18\n",
      "2   2.42225       178.00408   59.049785  1.23766E+18\n",
      "3  1.200478       178.01435   58.523769  1.23766E+18\n",
      "4  2.790979       178.01945   59.891184  1.23766E+18\n",
      "5  3.287412       178.03818   60.861185  1.23766E+18\n"
     ]
    }
   ],
   "source": [
    "import pandas as pd\n",
    "#The SQL Query I used:\n",
    "#select top 5 \n",
    "#    z, ra, dec, bestObjID\n",
    "#from\n",
    "#    specObj\n",
    "#where\n",
    "#    (class = 'qso')\n",
    "#    and ra > 178 \n",
    "#    and ra < 182 \n",
    "#    and dec > 58\n",
    "#    and dec < 62\n",
    "#I could not figure out how to include that into a jupyter so I hope me copying and pasting is acceptable!\n",
    "#The data I recieved I saved as a csv and created the table below. \n",
    "#I think I missed the part in lecture explaining how to rename and delete rows so I apologize!\n",
    "\n",
    "\n",
    "QSO = pd.read_csv('SDSSSURVEY.csv')\n",
    "\n",
    "\"\"\"Reads in the data set from SDSS\"\"\"\n",
    "\n",
    "QSO.rename(columns={'#Table1': 'Redshift'}, inplace=True)\n",
    "QSO.rename(columns={'Unnamed: 1' : 'Right Ascension'}, inplace=True)\n",
    "QSO.rename(columns={'Unnamed: 2' : 'Declination'}, inplace=True)\n",
    "QSO.rename(columns={'Unnamed: 3' : 'Best ID'}, inplace=True)\n",
    "\n",
    "\"\"\"Renaming columns\"\"\"\n",
    "\n",
    "print(QSO)"
   ]
  },
  {
   "cell_type": "code",
   "execution_count": null,
   "metadata": {},
   "outputs": [],
   "source": []
  }
 ],
 "metadata": {
  "kernelspec": {
   "display_name": "Python 3",
   "language": "python",
   "name": "python3"
  },
  "language_info": {
   "codemirror_mode": {
    "name": "ipython",
    "version": 3
   },
   "file_extension": ".py",
   "mimetype": "text/x-python",
   "name": "python",
   "nbconvert_exporter": "python",
   "pygments_lexer": "ipython3",
   "version": "3.6.6"
  }
 },
 "nbformat": 4,
 "nbformat_minor": 2
}
