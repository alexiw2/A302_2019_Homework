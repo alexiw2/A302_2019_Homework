{
 "cells": [
  {
   "cell_type": "markdown",
   "metadata": {},
   "source": [
    "For this homework assignment, I want to work on identifying variable stars. I have a research position next quarter working with variable stars and I would like to get a head start and begin to feel more comfortable with the objectives. \n",
    "Using real ZTF data, I would like the program to read in light curves of potential variables and plot them together."
   ]
  },
  {
   "cell_type": "code",
   "execution_count": 29,
   "metadata": {},
   "outputs": [],
   "source": [
    "import numpy as np\n",
    "import pandas as pd\n",
    "import matplotlib.pyplot as plt\n",
    "from astropy.stats import LombScargle\n",
    "from ipywidgets import interact,fixed"
   ]
  },
  {
   "cell_type": "code",
   "execution_count": 30,
   "metadata": {},
   "outputs": [],
   "source": [
    "\"\"\"Reading in all the data\"\"\"\n",
    "Star1 = pd.read_csv('ZTF17aaaaaan.csv')\n",
    "Star2 = pd.read_csv('ZTF17aaaaaas.csv')\n",
    "Star3 = pd.read_csv('ZTF17aaaaaee.csv')\n",
    "Star4 = pd.read_csv('ZTF17aaaaaej.csv')\n",
    "Star5 = pd.read_csv('ZTF17aaaaajf.csv')"
   ]
  },
  {
   "cell_type": "code",
   "execution_count": 31,
   "metadata": {},
   "outputs": [
    {
     "data": {
      "text/plain": [
       "<matplotlib.collections.PathCollection at 0x2c9af26a320>"
      ]
     },
     "execution_count": 31,
     "metadata": {},
     "output_type": "execute_result"
    },
    {
     "data": {
      "image/png": "[encoded data removed]",
      "text/plain": [
       "<Figure size 432x288 with 1 Axes>"
      ]
     },
     "metadata": {
      "needs_background": "light"
     },
     "output_type": "display_data"
    }
   ],
   "source": [
    "plt.plot(Star1['jd'], Star1['mag'])\n",
    "\"\"\"Seeing what the data looks like\"\"\"\n",
    "plt.scatter(Star1['jd'], Star1['mag'])\n",
    "#plt.plot(Star2['jd'], Star2['mag'], color = 'pink')\n",
    "#plt.plot(Star3['jd'], Star3['mag'], color = 'r')\n",
    "#plt.plot(Star4['jd'], Star4['mag'], color = 'b')\n",
    "#plt.plot(Star5['jd'], Star5['mag'], color = 'green')"
   ]
  },
  {
   "cell_type": "code",
   "execution_count": 32,
   "metadata": {},
   "outputs": [
    {
     "data": {
      "application/vnd.jupyter.widget-view+json": {
       "model_id": "1454da7bcbd64e3faef45a820504fb53",
       "version_major": 2,
       "version_minor": 0
      },
      "text/plain": [
       "interactive(children=(IntSlider(value=250, description='best_frequency', max=500, min=1), FloatSlider(value=0.…"
      ]
     },
     "metadata": {},
     "output_type": "display_data"
    },
    {
     "data": {
      "text/plain": [
       "'Changes variables so user can create best fit'"
      ]
     },
     "execution_count": 32,
     "metadata": {},
     "output_type": "execute_result"
    }
   ],
   "source": [
    "t = Star1['jd']\n",
    "y = Star1['mag']\n",
    "\"\"\"Defining the variables\"\"\"\n",
    " \n",
    "frequency = np.linspace(.01, 1, 1000)\n",
    "best_frequency = frequency[np.argmax(y)]\n",
    "t_fit = np.linspace(0, 1)\n",
    "y_fit = LombScargle(t, y).model(t_fit, best_frequency)\n",
    "\n",
    "def sinfit(best_frequency, t, y, A):\n",
    "    fig = plt.figure()\n",
    "    ax = plt.subplot(111)\n",
    "    \n",
    "    ax.scatter(t,y)\n",
    "    x_fit = np.linspace(t.min(), t.max(), 10)\n",
    "    ax.plot(x_fit, (A*np.sin(best_frequency*x_fit) + 16.5))\n",
    "    \"\"\"Function that generates sine wave\"\"\"\n",
    "\n",
    "interact(sinfit, A = (0.1,0.6,0.1), best_frequency=(1,500,1), t=fixed(t), y=fixed(y))\n",
    "\"\"\"Changes variables so user can create best fit\"\"\""
   ]
  },
  {
   "cell_type": "code",
   "execution_count": 33,
   "metadata": {
    "scrolled": true
   },
   "outputs": [
    {
     "data": {
      "application/vnd.jupyter.widget-view+json": {
       "model_id": "0e1a66d0cfc840bdb356f3f6f018bd31",
       "version_major": 2,
       "version_minor": 0
      },
      "text/plain": [
       "interactive(children=(IntSlider(value=2401, description='best_frequency', max=5000, min=1, step=100), FloatSli…"
      ]
     },
     "metadata": {},
     "output_type": "display_data"
    },
    {
     "data": {
      "text/plain": [
       "'Interactive function to create fit to star data'"
      ]
     },
     "execution_count": 33,
     "metadata": {},
     "output_type": "execute_result"
    }
   ],
   "source": [
    "def pltsin(best_frequency, A,B, t, y):\n",
    "    fig = plt.figure()\n",
    "    ax = plt.subplot(111)\n",
    "    \n",
    "    ax.scatter(t,y)\n",
    "    t_fit = np.linspace(t.min(),t.max(),100)\n",
    "    ax.plot(t_fit, A*(np.sin(best_frequency*t_fit))+B)\n",
    "     \n",
    "interact(pltsin, A = (0.1,0.9, 0.1), best_frequency = (1, 5000, 100), B = (16,17,0.1), t=fixed(t), y=fixed(y))\n",
    "\"\"\"Interactive function to create fit to star data\"\"\""
   ]
  },
  {
   "cell_type": "code",
   "execution_count": 34,
   "metadata": {},
   "outputs": [
    {
     "data": {
      "application/vnd.jupyter.widget-view+json": {
       "model_id": "d4bd152b184d4c7e89d5428349ffb559",
       "version_major": 2,
       "version_minor": 0
      },
      "text/plain": [
       "interactive(children=(IntSlider(value=2401, description='best_frequency', max=5000, min=1, step=100), FloatSli…"
      ]
     },
     "metadata": {},
     "output_type": "display_data"
    },
    {
     "data": {
      "text/plain": [
       "'Interactive function to create fit to star data'"
      ]
     },
     "execution_count": 34,
     "metadata": {},
     "output_type": "execute_result"
    }
   ],
   "source": [
    "\n",
    "t = Star2['jd']\n",
    "y = Star2['mag']\n",
    "\n",
    "frequency = np.linspace(0.1, 1.9, 900)\n",
    "best_frequency = frequency[np.argmax(y)]\n",
    "t_fit = np.linspace(0, 1)\n",
    "y_fit = LombScargle(t, y).model(t_fit, best_frequency)\n",
    "\"\"\"Sets up Lomb-Scargle\"\"\"\n",
    "def pltsin(best_frequency, A,B, t, y):\n",
    "    fig = plt.figure()\n",
    "    ax = plt.subplot(111)\n",
    "    \n",
    "    ax.scatter(t,y)\n",
    "    t_fit = np.linspace(t.min(),t.max(),100)\n",
    "    ax.plot(t_fit, A*(np.sin(best_frequency*t_fit))+B)\n",
    "     \n",
    "interact(pltsin, A = (0.1,0.9, 0.1), best_frequency = (1, 5000, 100), B = (16,18,.5), t=fixed(t), y=fixed(y))\n",
    "\"\"\"Interactive function to create fit to star data\"\"\""
   ]
  },
  {
   "cell_type": "code",
   "execution_count": 35,
   "metadata": {},
   "outputs": [
    {
     "data": {
      "application/vnd.jupyter.widget-view+json": {
       "model_id": "01273ca0b27e4dd8b995bd7816e1c6f8",
       "version_major": 2,
       "version_minor": 0
      },
      "text/plain": [
       "interactive(children=(IntSlider(value=2401, description='best_frequency', max=5000, min=1, step=100), FloatSli…"
      ]
     },
     "metadata": {},
     "output_type": "display_data"
    },
    {
     "data": {
      "text/plain": [
       "'Interactive function to create fit to star data'"
      ]
     },
     "execution_count": 35,
     "metadata": {},
     "output_type": "execute_result"
    }
   ],
   "source": [
    "t = Star3['jd']\n",
    "y = Star3['mag']\n",
    "\n",
    "frequency = np.linspace(0.1, 1.9, 900)\n",
    "best_frequency = frequency[np.argmax(y)]\n",
    "t_fit = np.linspace(0, 1)\n",
    "y_fit = LombScargle(t, y).model(t_fit, best_frequency)\n",
    "\"\"\"Sets up Lomb-Scargle\"\"\"\n",
    "\n",
    "def pltsin(best_frequency, A,B, t, y):\n",
    "    fig = plt.figure()\n",
    "    ax = plt.subplot(111)\n",
    "    \n",
    "    ax.scatter(t,y)\n",
    "    t_fit = np.linspace(t.min(),t.max(),100)\n",
    "    ax.plot(t_fit, A*(np.sin(best_frequency*t_fit))+B)\n",
    "     \n",
    "interact(pltsin, A = (0.1,0.9, 0.1), best_frequency = (1, 5000, 100), B = (16,18,0.2), t=fixed(t), y=fixed(y))\n",
    "\"\"\"Interactive function to create fit to star data\"\"\""
   ]
  },
  {
   "cell_type": "code",
   "execution_count": 36,
   "metadata": {},
   "outputs": [
    {
     "data": {
      "application/vnd.jupyter.widget-view+json": {
       "model_id": "4287919d8cf74e2d8cb7872e454958f1",
       "version_major": 2,
       "version_minor": 0
      },
      "text/plain": [
       "interactive(children=(IntSlider(value=2401, description='best_frequency', max=5000, min=1, step=100), FloatSli…"
      ]
     },
     "metadata": {},
     "output_type": "display_data"
    },
    {
     "data": {
      "text/plain": [
       "'Interactive function to create fit to star data'"
      ]
     },
     "execution_count": 36,
     "metadata": {},
     "output_type": "execute_result"
    }
   ],
   "source": [
    "t = Star4['jd']\n",
    "y = Star4['mag']\n",
    "\n",
    "frequency = np.linspace(0.1, 1.9, 900)\n",
    "best_frequency = frequency[np.argmax(y)]\n",
    "t_fit = np.linspace(0, 1)\n",
    "y_fit = LombScargle(t, y).model(t_fit, best_frequency)\n",
    "\"\"\"Sets up Lomb-Scargle\"\"\"\n",
    "\n",
    "def pltsin(best_frequency, A,B, t, y):\n",
    "    fig = plt.figure()\n",
    "    ax = plt.subplot(111)\n",
    "    \n",
    "    ax.scatter(t,y)\n",
    "    t_fit = np.linspace(t.min(),t.max(),100)\n",
    "    ax.plot(t_fit, A*(np.sin(best_frequency*t_fit))+B)\n",
    "     \n",
    "interact(pltsin, A = (0.1,0.9, 0.1), best_frequency = (1, 5000, 100), B = (16,18,0.1), t=fixed(t), y=fixed(y))\n",
    "\"\"\"Interactive function to create fit to star data\"\"\""
   ]
  },
  {
   "cell_type": "code",
   "execution_count": 23,
   "metadata": {},
   "outputs": [
    {
     "data": {
      "application/vnd.jupyter.widget-view+json": {
       "model_id": "ae6096d427f9416382b9ff3bad2ae0a6",
       "version_major": 2,
       "version_minor": 0
      },
      "text/plain": [
       "interactive(children=(IntSlider(value=2401, description='best_frequency', max=5000, min=1, step=100), FloatSli…"
      ]
     },
     "metadata": {},
     "output_type": "display_data"
    },
    {
     "data": {
      "text/plain": [
       "'Interactive function to create fit to star data'"
      ]
     },
     "execution_count": 23,
     "metadata": {},
     "output_type": "execute_result"
    }
   ],
   "source": [
    "t = Star5['jd']\n",
    "y = Star5['mag']\n",
    "\n",
    "frequency = np.linspace(0.1, 1.9, 900)\n",
    "best_frequency = frequency[np.argmax(y)]\n",
    "t_fit = np.linspace(0, 1)\n",
    "y_fit = LombScargle(t, y).model(t_fit, best_frequency)\n",
    "\"\"\"Sets up Lomb-Scargle\"\"\"\n",
    "\n",
    "def pltsin(best_frequency, A,B, t, y):\n",
    "    fig = plt.figure()\n",
    "    ax = plt.subplot(111)\n",
    "    \n",
    "    ax.scatter(t,y)\n",
    "    t_fit = np.linspace(t.min(),t.max(),100)\n",
    "    ax.plot(t_fit, A*(np.sin(best_frequency*t_fit))+B)\n",
    "     \n",
    "interact(pltsin, A = (0.1,0.9, 0.1), best_frequency = (1, 5000, 100), B = (16,18,0.2), t=fixed(t), y=fixed(y))\n",
    "\"\"\"Interactive function to create fit to star data\"\"\""
   ]
  },
  {
   "cell_type": "code",
   "execution_count": null,
   "metadata": {},
   "outputs": [],
   "source": []
  },
  {
   "cell_type": "code",
   "execution_count": null,
   "metadata": {},
   "outputs": [],
   "source": []
  }
 ],
 "metadata": {
  "kernelspec": {
   "display_name": "Python 3",
   "language": "python",
   "name": "python3"
  },
  "language_info": {
   "codemirror_mode": {
    "name": "ipython",
    "version": 3
   },
   "file_extension": ".py",
   "mimetype": "text/x-python",
   "name": "python",
   "nbconvert_exporter": "python",
   "pygments_lexer": "ipython3",
   "version": "3.6.6"
  }
 },
 "nbformat": 4,
 "nbformat_minor": 2
}
